{
 "cells": [
  {
   "cell_type": "markdown",
   "id": "1618b2a8-56fd-4f66-9125-13a6012fade8",
   "metadata": {},
   "source": [
    "Importing essential libraries"
   ]
  },
  {
   "cell_type": "code",
   "execution_count": 1,
   "id": "d0bfda66-eec1-4fe7-8db7-f6fa822635a7",
   "metadata": {},
   "outputs": [],
   "source": [
    "import pandas as pd\n",
    "import matplotlib.pyplot as plt\n",
    "import seaborn as sns\n",
    "from wordcloud import WordCloud\n",
    "import re"
   ]
  },
  {
   "cell_type": "code",
   "execution_count": 2,
   "id": "4bd77a40-4a32-498f-bb97-fccb5c4ab06f",
   "metadata": {},
   "outputs": [],
   "source": [
    "import nltk\n",
    "from nltk.corpus import stopwords\n",
    "from nltk.stem import WordNetLemmatizer"
   ]
  },
  {
   "cell_type": "code",
   "execution_count": 3,
   "id": "3a52dd8b-6ab5-46c4-9030-62eb6abb3822",
   "metadata": {},
   "outputs": [],
   "source": [
    "from sklearn.metrics import accuracy_score,precision_score,recall_score,confusion_matrix,roc_curve,classification_report\n",
    "from scikitplot.metrics import plot_confusion_matrix"
   ]
  },
  {
   "cell_type": "code",
   "execution_count": 4,
   "id": "e369608a-c1dd-46b1-8138-9308ca468a1e",
   "metadata": {},
   "outputs": [],
   "source": [
    "df = pd.read_csv(\"Assamese Sentiments file.csv\")"
   ]
  },
  {
   "cell_type": "code",
   "execution_count": 5,
   "id": "7c1eaf20-bb13-4917-a06a-01f91a440a27",
   "metadata": {},
   "outputs": [
    {
     "data": {
      "text/html": [
       "<div>\n",
       "<style scoped>\n",
       "    .dataframe tbody tr th:only-of-type {\n",
       "        vertical-align: middle;\n",
       "    }\n",
       "\n",
       "    .dataframe tbody tr th {\n",
       "        vertical-align: top;\n",
       "    }\n",
       "\n",
       "    .dataframe thead th {\n",
       "        text-align: right;\n",
       "    }\n",
       "</style>\n",
       "<table border=\"1\" class=\"dataframe\">\n",
       "  <thead>\n",
       "    <tr style=\"text-align: right;\">\n",
       "      <th></th>\n",
       "      <th>Assamese Text</th>\n",
       "      <th>Sentiments</th>\n",
       "    </tr>\n",
       "  </thead>\n",
       "  <tbody>\n",
       "    <tr>\n",
       "      <th>0</th>\n",
       "      <td>কিছুমান ইস্ৰায়েলে কেনে ধৰণৰ অন্যায়পূৰ্ণ কাৰ্য্...</td>\n",
       "      <td>Negative</td>\n",
       "    </tr>\n",
       "    <tr>\n",
       "      <th>1</th>\n",
       "      <td>বৰ্তমান পশ্চিম বংগৰ বিজেপিৰ মহাসচিব হিচাপে কাৰ...</td>\n",
       "      <td>Neutral</td>\n",
       "    </tr>\n",
       "    <tr>\n",
       "      <th>2</th>\n",
       "      <td>নতুন ফোল্ডাৰ `%s' নিৰ্মাণ কৰা সম্ভব নহয়</td>\n",
       "      <td>Neutral</td>\n",
       "    </tr>\n",
       "    <tr>\n",
       "      <th>3</th>\n",
       "      <td>তাৰবাবে আমাৰ দেশৰ যুবশক্তিক আমি চাকৰি প্ৰত্যাশ...</td>\n",
       "      <td>Neutral</td>\n",
       "    </tr>\n",
       "    <tr>\n",
       "      <th>4</th>\n",
       "      <td>মই ইয়াত আছো!</td>\n",
       "      <td>Neutral</td>\n",
       "    </tr>\n",
       "  </tbody>\n",
       "</table>\n",
       "</div>"
      ],
      "text/plain": [
       "                                       Assamese Text Sentiments\n",
       "0  কিছুমান ইস্ৰায়েলে কেনে ধৰণৰ অন্যায়পূৰ্ণ কাৰ্য্...   Negative\n",
       "1  বৰ্তমান পশ্চিম বংগৰ বিজেপিৰ মহাসচিব হিচাপে কাৰ...    Neutral\n",
       "2            নতুন ফোল্ডাৰ `%s' নিৰ্মাণ কৰা সম্ভব নহয়    Neutral\n",
       "3  তাৰবাবে আমাৰ দেশৰ যুবশক্তিক আমি চাকৰি প্ৰত্যাশ...    Neutral\n",
       "4                                       মই ইয়াত আছো!    Neutral"
      ]
     },
     "execution_count": 5,
     "metadata": {},
     "output_type": "execute_result"
    }
   ],
   "source": [
    "df.head()"
   ]
  },
  {
   "cell_type": "code",
   "execution_count": 6,
   "id": "9e3de1d7-e2d9-4574-a03d-6c456da23fb0",
   "metadata": {},
   "outputs": [],
   "source": [
    "row_24 = df.iloc[24]"
   ]
  },
  {
   "cell_type": "code",
   "execution_count": 7,
   "id": "f8430b52-bc11-47f6-888f-7f0a2372129c",
   "metadata": {},
   "outputs": [
    {
     "name": "stdout",
     "output_type": "stream",
     "text": [
      "Assamese Text    ফাইল মচি পেলোৱা হৈছে\n",
      "Sentiments                   Positive\n",
      "Name: 24, dtype: object\n"
     ]
    }
   ],
   "source": [
    "print(row_24)"
   ]
  },
  {
   "cell_type": "markdown",
   "id": "c79ad213-04a9-41d4-a8df-ca95898e7ad7",
   "metadata": {},
   "source": [
    "One Hot Encoding the dependent variable"
   ]
  },
  {
   "cell_type": "code",
   "execution_count": 8,
   "id": "ab25bdd8-66be-438d-aa7d-9c8b90d6d49a",
   "metadata": {},
   "outputs": [],
   "source": [
    "from sklearn.preprocessing import LabelEncoder \n",
    "\n",
    "le = LabelEncoder()\n",
    "\n",
    "df.Sentiments=le.fit_transform(df.Sentiments)"
   ]
  },
  {
   "cell_type": "code",
   "execution_count": 9,
   "id": "982b4644-9c47-418e-b816-afcfa47c728c",
   "metadata": {},
   "outputs": [
    {
     "data": {
      "text/html": [
       "<div>\n",
       "<style scoped>\n",
       "    .dataframe tbody tr th:only-of-type {\n",
       "        vertical-align: middle;\n",
       "    }\n",
       "\n",
       "    .dataframe tbody tr th {\n",
       "        vertical-align: top;\n",
       "    }\n",
       "\n",
       "    .dataframe thead th {\n",
       "        text-align: right;\n",
       "    }\n",
       "</style>\n",
       "<table border=\"1\" class=\"dataframe\">\n",
       "  <thead>\n",
       "    <tr style=\"text-align: right;\">\n",
       "      <th></th>\n",
       "      <th>Assamese Text</th>\n",
       "      <th>Sentiments</th>\n",
       "    </tr>\n",
       "  </thead>\n",
       "  <tbody>\n",
       "    <tr>\n",
       "      <th>0</th>\n",
       "      <td>কিছুমান ইস্ৰায়েলে কেনে ধৰণৰ অন্যায়পূৰ্ণ কাৰ্য্...</td>\n",
       "      <td>0</td>\n",
       "    </tr>\n",
       "    <tr>\n",
       "      <th>1</th>\n",
       "      <td>বৰ্তমান পশ্চিম বংগৰ বিজেপিৰ মহাসচিব হিচাপে কাৰ...</td>\n",
       "      <td>1</td>\n",
       "    </tr>\n",
       "    <tr>\n",
       "      <th>2</th>\n",
       "      <td>নতুন ফোল্ডাৰ `%s' নিৰ্মাণ কৰা সম্ভব নহয়</td>\n",
       "      <td>1</td>\n",
       "    </tr>\n",
       "    <tr>\n",
       "      <th>3</th>\n",
       "      <td>তাৰবাবে আমাৰ দেশৰ যুবশক্তিক আমি চাকৰি প্ৰত্যাশ...</td>\n",
       "      <td>1</td>\n",
       "    </tr>\n",
       "    <tr>\n",
       "      <th>4</th>\n",
       "      <td>মই ইয়াত আছো!</td>\n",
       "      <td>1</td>\n",
       "    </tr>\n",
       "  </tbody>\n",
       "</table>\n",
       "</div>"
      ],
      "text/plain": [
       "                                       Assamese Text  Sentiments\n",
       "0  কিছুমান ইস্ৰায়েলে কেনে ধৰণৰ অন্যায়পূৰ্ণ কাৰ্য্...           0\n",
       "1  বৰ্তমান পশ্চিম বংগৰ বিজেপিৰ মহাসচিব হিচাপে কাৰ...           1\n",
       "2            নতুন ফোল্ডাৰ `%s' নিৰ্মাণ কৰা সম্ভব নহয়           1\n",
       "3  তাৰবাবে আমাৰ দেশৰ যুবশক্তিক আমি চাকৰি প্ৰত্যাশ...           1\n",
       "4                                       মই ইয়াত আছো!           1"
      ]
     },
     "execution_count": 9,
     "metadata": {},
     "output_type": "execute_result"
    }
   ],
   "source": [
    "df.head()"
   ]
  },
  {
   "cell_type": "code",
   "execution_count": 10,
   "id": "3ff7966b-8ce6-4bea-adc6-bddd659ae7ea",
   "metadata": {},
   "outputs": [],
   "source": [
    "X= df['Assamese Text']"
   ]
  },
  {
   "cell_type": "code",
   "execution_count": 11,
   "id": "3a345739-2595-4596-bba5-be0837b9d81d",
   "metadata": {},
   "outputs": [
    {
     "data": {
      "text/plain": [
       "0         কিছুমান ইস্ৰায়েলে কেনে ধৰণৰ অন্যায়পূৰ্ণ কাৰ্য্...\n",
       "1         বৰ্তমান পশ্চিম বংগৰ বিজেপিৰ মহাসচিব হিচাপে কাৰ...\n",
       "2                   নতুন ফোল্ডাৰ `%s' নিৰ্মাণ কৰা সম্ভব নহয়\n",
       "3         তাৰবাবে আমাৰ দেশৰ যুবশক্তিক আমি চাকৰি প্ৰত্যাশ...\n",
       "4                                              মই ইয়াত আছো!\n",
       "                                ...                        \n",
       "120916    ব্যৱহাৰকৰোঁতাৰ গৃহস্থৰনামৰ বিষয়ে প্ৰমাণীকৰণ প্...\n",
       "120917    তেওঁৰ দেউতাকৰ নাম আছিল ৰাধিকা ৰঞ্জন ব্ৰহ্ম আৰু...\n",
       "120918    “আমি ইয়াত প্ৰত্যেকৰ বাবে সম্পূৰ্ণ নিৰাপত্তা বি...\n",
       "120919    ভাৰত আৰু ভিয়েটনামৰ মাজৰ বন্ধুত্বপূৰ্ণ সম্পৰ্কক...\n",
       "120920                       এটা বৈধ কি' চাৰ্ভাৰৰ ঠিকনা নহয়\n",
       "Name: Assamese Text, Length: 120921, dtype: object"
      ]
     },
     "execution_count": 11,
     "metadata": {},
     "output_type": "execute_result"
    }
   ],
   "source": [
    "X\n"
   ]
  },
  {
   "cell_type": "code",
   "execution_count": 12,
   "id": "22706a5c-62c3-418a-b070-dba3106e3c2d",
   "metadata": {},
   "outputs": [],
   "source": [
    "y=df['Sentiments']"
   ]
  },
  {
   "cell_type": "code",
   "execution_count": 13,
   "id": "f3cca507-6ccb-4b43-a580-160932517406",
   "metadata": {},
   "outputs": [
    {
     "data": {
      "text/plain": [
       "0         0\n",
       "1         1\n",
       "2         1\n",
       "3         1\n",
       "4         1\n",
       "         ..\n",
       "120916    1\n",
       "120917    1\n",
       "120918    1\n",
       "120919    1\n",
       "120920    1\n",
       "Name: Sentiments, Length: 120921, dtype: int32"
      ]
     },
     "execution_count": 13,
     "metadata": {},
     "output_type": "execute_result"
    }
   ],
   "source": [
    "y"
   ]
  },
  {
   "cell_type": "code",
   "execution_count": 14,
   "id": "a0827123-28a5-4c82-8a0c-bad42d4f40c2",
   "metadata": {},
   "outputs": [],
   "source": [
    "from indicnlp.tokenize import indic_tokenize\n",
    "from indicnlp.normalize.indic_normalize import IndicNormalizerFactory\n",
    "from indicnlp.morph import unsupervised_morph"
   ]
  },
  {
   "cell_type": "code",
   "execution_count": 15,
   "id": "feae5b43-e277-4ba2-b7c1-222064676bb0",
   "metadata": {},
   "outputs": [],
   "source": [
    "assamese_stopwords = [\n",
    "    'অতএব', 'অথচ', 'অথবা', 'অধঃ', 'অন্ততঃ', 'অর্থাৎ', 'অর্থে', 'আও', 'আঃ', 'আচ্ছা', \n",
    "    'আপাততঃ', 'আয়ৈ', 'আৰু', 'আস্', 'আহা', 'আহাহা', 'ইতস্ততঃ', 'ইতি', 'ইত্যাদি', \n",
    "    'ইস্', 'ইহ', 'উঃ', 'উৱা', 'উস্', 'এতেকে', 'এথোন', 'ঐ', 'ওঁ', 'ওৰফে', 'ঔচ্', \n",
    "    'কি', 'কিম্বা', 'কিন্তু', 'কিয়নো', 'কেলেই', 'কাচিত্', 'চোন', 'ছাৰি', 'ছিকৌ', 'ছেই', \n",
    "    'ঠাহ্', 'ঢুত্', 'ঢেঁট্', 'তত', 'ততক', 'ততেক', 'তেতেক', 'ততেক', 'তত্ৰাচ', \n",
    "    'তথা', 'তথৈবচ', 'তাতে', 'তো', 'তৌৱা', 'দেই', 'দেহি', 'দ্বাৰা', 'ধৰি', 'ধিক্', 'নচেত্', \n",
    "    'নতুবা', 'নি', 'নো', 'নৌ', 'পৰা', 'পৰ্যন্ত', 'পশ্চাত্', 'বৰঞ্চ', 'বহিঃ', 'বাবে', \n",
    "    'বাৰু', 'বাহ্', 'বাহিৰে', 'বিনে', 'বে', 'মতে', 'যথা', 'যদি', 'যদ্যপি', 'যে', 'যেনিবা', \n",
    "    'যেনে', 'যোগে', 'লৈ', 'সত্ত্বে', 'সমন্ধি', 'সম্প্ৰতি', 'সহ', 'সু', 'সেইদেখি', 'সৈতে', \n",
    "    'স্বতঃ', 'হঞে', 'হতুৱা', 'হন্তে', 'হবলা', 'হয়', 'হা', 'হুঁ', 'হুই', 'হে', 'হেই', 'হেঃ', \n",
    "    'হেতুকে', 'হেনে', 'হেনো', 'হেৰ', 'হেৰি', 'হৈ', 'হোঁ', 'ইঃ', 'ইচ্', 'চুহ্', 'চুঃ', \n",
    "    'আঁ'\n",
    "]"
   ]
  },
  {
   "cell_type": "code",
   "execution_count": 16,
   "id": "11a60f0c-3681-47f7-bc8a-fc83cc669746",
   "metadata": {},
   "outputs": [],
   "source": [
    "def text_transformation_indic(df_col):\n",
    "    corpus = []\n",
    "    # Initialize the IndicNormalizerFactory\n",
    "    factory = IndicNormalizerFactory()\n",
    "    normalizer = factory.get_normalizer(\"as\")\n",
    "\n",
    "    for item in df_col:\n",
    "        # Normalizing text\n",
    "        new_item = normalizer.normalize(item)\n",
    "        # Tokenizing and removing stopwords\n",
    "        tokens = indic_tokenize.trivial_tokenize(new_item)\n",
    "        filtered_tokens = [token for token in tokens if token not in assamese_stopwords]\n",
    "        # Join the filtered tokens\n",
    "        filtered_text = ' '.join(filtered_tokens)\n",
    "        # Append the filtered text to the corpus\n",
    "        corpus.append(filtered_text)\n",
    "    \n",
    "    return corpus"
   ]
  },
  {
   "cell_type": "code",
   "execution_count": 17,
   "id": "3f502876-56b4-4a24-b6cf-f34d9da11737",
   "metadata": {},
   "outputs": [],
   "source": [
    "X_preprocessed = text_transformation_indic(X)"
   ]
  },
  {
   "cell_type": "code",
   "execution_count": 18,
   "id": "caf248eb-5e46-4aa5-b325-0ff501c7d1ec",
   "metadata": {},
   "outputs": [
    {
     "data": {
      "text/plain": [
       "['কিছুমান ইস্ৰায়েলে কেনে ধৰণৰ অন্যায়পূৰ্ণ কাৰ্য্যত লিপ্ত আছিল ?',\n",
       " 'বৰ্তমান পশ্চিম বংগৰ বিজেপিৰ মহাসচিব হিচাপে কাৰ্যনিৰ্বাহ ।',\n",
       " \"নতুন ফোল্ডাৰ ` % s ' নিৰ্মাণ কৰা সম্ভব নহয়\",\n",
       " 'তাৰবাবে আমাৰ দেশৰ যুবশক্তিক আমি চাকৰি প্ৰত্যাশীৰ বিপৰীতে চাকৰি সৃষ্টিকাৰী হিচাপে গঢ়ি তুলিব বিচাৰো ।',\n",
       " 'মই ইয়াত আছো !']"
      ]
     },
     "execution_count": 18,
     "metadata": {},
     "output_type": "execute_result"
    }
   ],
   "source": [
    "X_preprocessed[0:5]"
   ]
  },
  {
   "cell_type": "code",
   "execution_count": 19,
   "id": "6d7d2a0e-ffae-4315-8559-a5373540e37a",
   "metadata": {},
   "outputs": [],
   "source": [
    "from sklearn.feature_extraction.text import TfidfVectorizer\n",
    "df = df.dropna()\n",
    "vectorizer = TfidfVectorizer(max_features=4000)  \n",
    "X_vectorized = vectorizer.fit_transform(X_preprocessed)\n",
    "X_vectorized = X_vectorized.toarray()"
   ]
  },
  {
   "cell_type": "code",
   "execution_count": 20,
   "id": "ca1f6d73-db6b-49dd-96cb-bd4588a0e7a8",
   "metadata": {},
   "outputs": [
    {
     "data": {
      "text/plain": [
       "array([0., 0., 0., ..., 0., 0., 0.])"
      ]
     },
     "execution_count": 20,
     "metadata": {},
     "output_type": "execute_result"
    }
   ],
   "source": [
    "X_vectorized[1]"
   ]
  },
  {
   "cell_type": "code",
   "execution_count": 21,
   "id": "75d2a76f-63f5-4c6f-80f2-efeacaeca05d",
   "metadata": {},
   "outputs": [],
   "source": [
    "from sklearn.model_selection import train_test_split\n",
    "\n",
    "X_train, X_test, y_train, y_test = train_test_split(X_vectorized, y, test_size=0.2, random_state=42)"
   ]
  },
  {
   "cell_type": "code",
   "execution_count": 22,
   "id": "9395146f-55c4-4a86-b1f7-db2fd7ed4e17",
   "metadata": {},
   "outputs": [
    {
     "data": {
      "text/plain": [
       "(4000,)"
      ]
     },
     "execution_count": 22,
     "metadata": {},
     "output_type": "execute_result"
    }
   ],
   "source": [
    "X_train[3].shape"
   ]
  },
  {
   "cell_type": "code",
   "execution_count": 23,
   "id": "e746d790-95aa-45ef-927a-77826179927b",
   "metadata": {},
   "outputs": [
    {
     "name": "stdout",
     "output_type": "stream",
     "text": [
      "WARNING:tensorflow:From C:\\Users\\lenovo\\anaconda3\\Lib\\site-packages\\keras\\src\\losses.py:2976: The name tf.losses.sparse_softmax_cross_entropy is deprecated. Please use tf.compat.v1.losses.sparse_softmax_cross_entropy instead.\n",
      "\n"
     ]
    }
   ],
   "source": [
    "import tensorflow as tf"
   ]
  },
  {
   "cell_type": "code",
   "execution_count": 24,
   "id": "6b16dea4-7f41-4500-add0-dd9effa3d543",
   "metadata": {},
   "outputs": [
    {
     "name": "stdout",
     "output_type": "stream",
     "text": [
      "WARNING:tensorflow:From C:\\Users\\lenovo\\anaconda3\\Lib\\site-packages\\keras\\src\\backend.py:873: The name tf.get_default_graph is deprecated. Please use tf.compat.v1.get_default_graph instead.\n",
      "\n",
      "WARNING:tensorflow:From C:\\Users\\lenovo\\anaconda3\\Lib\\site-packages\\keras\\src\\optimizers\\__init__.py:309: The name tf.train.Optimizer is deprecated. Please use tf.compat.v1.train.Optimizer instead.\n",
      "\n",
      "Epoch 1/5\n",
      "WARNING:tensorflow:From C:\\Users\\lenovo\\anaconda3\\Lib\\site-packages\\keras\\src\\utils\\tf_utils.py:492: The name tf.ragged.RaggedTensorValue is deprecated. Please use tf.compat.v1.ragged.RaggedTensorValue instead.\n",
      "\n",
      "WARNING:tensorflow:From C:\\Users\\lenovo\\anaconda3\\Lib\\site-packages\\keras\\src\\engine\\base_layer_utils.py:384: The name tf.executing_eagerly_outside_functions is deprecated. Please use tf.compat.v1.executing_eagerly_outside_functions instead.\n",
      "\n",
      "3023/3023 [==============================] - 17s 4ms/step - loss: 0.9016 - accuracy: 0.6174 - val_loss: 0.8947 - val_accuracy: 0.6199\n",
      "Epoch 2/5\n",
      "3023/3023 [==============================] - 9s 3ms/step - loss: 0.8893 - accuracy: 0.6176 - val_loss: 0.8989 - val_accuracy: 0.6199\n",
      "Epoch 3/5\n",
      "3023/3023 [==============================] - 10s 3ms/step - loss: 0.8800 - accuracy: 0.6182 - val_loss: 0.9055 - val_accuracy: 0.6187\n",
      "Epoch 4/5\n",
      "3023/3023 [==============================] - 9s 3ms/step - loss: 0.8663 - accuracy: 0.6211 - val_loss: 0.9139 - val_accuracy: 0.6165\n",
      "Epoch 5/5\n",
      "3023/3023 [==============================] - 9s 3ms/step - loss: 0.8473 - accuracy: 0.6276 - val_loss: 0.9280 - val_accuracy: 0.6052\n"
     ]
    }
   ],
   "source": [
    "from tensorflow import keras\n",
    "from tensorflow.keras import layers\n",
    "\n",
    "\n",
    "model = keras.Sequential([\n",
    "    layers.Dense(64, input_shape=(4000,), activation='relu'),    \n",
    "    layers.Dense(3, activation='softmax')  \n",
    "])\n",
    "\n",
    "# Compile the model\n",
    "model.compile(\n",
    "    optimizer='adam',  \n",
    "    loss='sparse_categorical_crossentropy',  \n",
    "    metrics=['accuracy']\n",
    ")\n",
    "\n",
    "# Train the model\n",
    "history = model.fit(\n",
    "    X_train, y_train,\n",
    "    epochs=5,\n",
    "    validation_data=(X_test, y_test), \n",
    "    batch_size=32  \n",
    ")\n"
   ]
  },
  {
   "cell_type": "code",
   "execution_count": null,
   "id": "1a67f4f8-f65a-430b-82d9-cfb57ad291b6",
   "metadata": {},
   "outputs": [],
   "source": [
    "from sklearn.svm import SVC\n",
    "from sklearn.metrics import accuracy_score\n",
    "\n",
    "# Initialize the SVM classifier\n",
    "svm_classifier = SVC(kernel='rbf')  # You can specify different kernels like 'linear', 'poly', or 'rbf'\n",
    "\n",
    "# Train the SVM classifier\n",
    "svm_classifier.fit(X_train, y_train)\n",
    "\n",
    "# Make predictions on the test data\n",
    "y_pred = svm_classifier.predict(X_test)\n",
    "\n",
    "# Evaluate the accuracy of the SVM classifier\n",
    "accuracy = accuracy_score(y_test, y_pred)\n",
    "print(\"Accuracy:\", accuracy)\n"
   ]
  },
  {
   "cell_type": "code",
   "execution_count": null,
   "id": "f2228123-4d3e-4cc0-b5ae-71eb2d0cbfce",
   "metadata": {},
   "outputs": [],
   "source": []
  }
 ],
 "metadata": {
  "kernelspec": {
   "display_name": "Python 3 (ipykernel)",
   "language": "python",
   "name": "python3"
  },
  "language_info": {
   "codemirror_mode": {
    "name": "ipython",
    "version": 3
   },
   "file_extension": ".py",
   "mimetype": "text/x-python",
   "name": "python",
   "nbconvert_exporter": "python",
   "pygments_lexer": "ipython3",
   "version": "3.11.5"
  }
 },
 "nbformat": 4,
 "nbformat_minor": 5
}
